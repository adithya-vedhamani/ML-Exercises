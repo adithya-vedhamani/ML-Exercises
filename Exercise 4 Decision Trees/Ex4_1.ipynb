{
 "cells": [
  {
   "cell_type": "markdown",
   "metadata": {},
   "source": [
    "# CS3802--Machine Learning Algorithms Lab\n",
    "\n",
    "Adithya V |\n",
    "BTech CSE (IoT) - A | 21011102009\n",
    "\n",
    "## Exercise 4\n",
    "---\n",
    "### 1. Use the classification.csv file and compute the gini index for age and salary column."
   ]
  },
  {
   "cell_type": "markdown",
   "metadata": {},
   "source": [
    "## Import the libraries and read the dataset"
   ]
  },
  {
   "cell_type": "code",
   "execution_count": 2,
   "metadata": {},
   "outputs": [
    {
     "name": "stderr",
     "output_type": "stream",
     "text": [
      "c:\\Python311\\Lib\\site-packages\\numpy\\_distributor_init.py:30: UserWarning: loaded more than 1 DLL from .libs:\n",
      "c:\\Python311\\Lib\\site-packages\\numpy\\.libs\\libopenblas64__v0.3.21-gcc_10_3_0.dll\n",
      "c:\\Python311\\Lib\\site-packages\\numpy\\.libs\\libopenblas64__v0.3.23-gcc_10_3_0.dll\n",
      "  warnings.warn(\"loaded more than 1 DLL from .libs:\"\n"
     ]
    }
   ],
   "source": [
    "import pandas as pd\n",
    "import numpy as np\n",
    "import matplotlib.pyplot as plt\n",
    "import seaborn as sns"
   ]
  },
  {
   "cell_type": "markdown",
   "metadata": {},
   "source": [
    "### Reading the data from the CSV file"
   ]
  },
  {
   "cell_type": "code",
   "execution_count": 3,
   "metadata": {},
   "outputs": [
    {
     "data": {
      "text/html": [
       "<div>\n",
       "<style scoped>\n",
       "    .dataframe tbody tr th:only-of-type {\n",
       "        vertical-align: middle;\n",
       "    }\n",
       "\n",
       "    .dataframe tbody tr th {\n",
       "        vertical-align: top;\n",
       "    }\n",
       "\n",
       "    .dataframe thead th {\n",
       "        text-align: right;\n",
       "    }\n",
       "</style>\n",
       "<table border=\"1\" class=\"dataframe\">\n",
       "  <thead>\n",
       "    <tr style=\"text-align: right;\">\n",
       "      <th></th>\n",
       "      <th>Age</th>\n",
       "      <th>EstimatedSalary</th>\n",
       "      <th>Purchased</th>\n",
       "    </tr>\n",
       "  </thead>\n",
       "  <tbody>\n",
       "    <tr>\n",
       "      <th>0</th>\n",
       "      <td>19</td>\n",
       "      <td>19000</td>\n",
       "      <td>0</td>\n",
       "    </tr>\n",
       "    <tr>\n",
       "      <th>1</th>\n",
       "      <td>35</td>\n",
       "      <td>20000</td>\n",
       "      <td>0</td>\n",
       "    </tr>\n",
       "    <tr>\n",
       "      <th>2</th>\n",
       "      <td>26</td>\n",
       "      <td>43000</td>\n",
       "      <td>0</td>\n",
       "    </tr>\n",
       "    <tr>\n",
       "      <th>3</th>\n",
       "      <td>27</td>\n",
       "      <td>57000</td>\n",
       "      <td>0</td>\n",
       "    </tr>\n",
       "    <tr>\n",
       "      <th>4</th>\n",
       "      <td>19</td>\n",
       "      <td>76000</td>\n",
       "      <td>0</td>\n",
       "    </tr>\n",
       "  </tbody>\n",
       "</table>\n",
       "</div>"
      ],
      "text/plain": [
       "   Age  EstimatedSalary  Purchased\n",
       "0   19            19000          0\n",
       "1   35            20000          0\n",
       "2   26            43000          0\n",
       "3   27            57000          0\n",
       "4   19            76000          0"
      ]
     },
     "execution_count": 3,
     "metadata": {},
     "output_type": "execute_result"
    }
   ],
   "source": [
    "df = pd.read_csv('classification.csv')\n",
    "df.head()"
   ]
  },
  {
   "cell_type": "code",
   "execution_count": 4,
   "metadata": {},
   "outputs": [
    {
     "name": "stdout",
     "output_type": "stream",
     "text": [
      "<class 'pandas.core.frame.DataFrame'>\n",
      "RangeIndex: 400 entries, 0 to 399\n",
      "Data columns (total 3 columns):\n",
      " #   Column           Non-Null Count  Dtype\n",
      "---  ------           --------------  -----\n",
      " 0   Age              400 non-null    int64\n",
      " 1   EstimatedSalary  400 non-null    int64\n",
      " 2   Purchased        400 non-null    int64\n",
      "dtypes: int64(3)\n",
      "memory usage: 9.5 KB\n"
     ]
    }
   ],
   "source": [
    "df.info()"
   ]
  },
  {
   "cell_type": "markdown",
   "metadata": {},
   "source": [
    "### Gini Index"
   ]
  },
  {
   "cell_type": "code",
   "execution_count": 5,
   "metadata": {},
   "outputs": [
    {
     "name": "stdout",
     "output_type": "stream",
     "text": [
      "Best split for Age: {'index': 0, 'value': 43, 'groups': ([[19, 19000, 0], [35, 20000, 0], [26, 43000, 0], [27, 57000, 0], [19, 76000, 0], [27, 58000, 0], [27, 84000, 0], [32, 150000, 1], [25, 33000, 0], [35, 65000, 0], [26, 80000, 0], [26, 52000, 0], [20, 86000, 0], [32, 18000, 0], [18, 82000, 0], [29, 80000, 0], [29, 43000, 0], [31, 18000, 0], [31, 74000, 0], [27, 137000, 1], [21, 16000, 0], [28, 44000, 0], [27, 90000, 0], [35, 27000, 0], [33, 28000, 0], [30, 49000, 0], [26, 72000, 0], [27, 31000, 0], [27, 17000, 0], [33, 51000, 0], [35, 108000, 0], [30, 15000, 0], [28, 84000, 0], [23, 20000, 0], [25, 79000, 0], [27, 54000, 0], [30, 135000, 1], [31, 89000, 0], [24, 32000, 0], [18, 44000, 0], [29, 83000, 0], [35, 23000, 0], [27, 58000, 0], [24, 55000, 0], [23, 48000, 0], [28, 79000, 0], [22, 18000, 0], [32, 117000, 0], [27, 20000, 0], [25, 87000, 0], [23, 66000, 0], [32, 120000, 1], [24, 58000, 0], [24, 19000, 0], [23, 82000, 0], [22, 63000, 0], [31, 68000, 0], [25, 80000, 0], [24, 27000, 0], [20, 23000, 0], [33, 113000, 0], [32, 18000, 0], [34, 112000, 1], [18, 52000, 0], [22, 27000, 0], [28, 87000, 0], [26, 17000, 0], [30, 80000, 0], [39, 42000, 0], [20, 49000, 0], [35, 88000, 0], [30, 62000, 0], [31, 118000, 1], [24, 55000, 0], [28, 85000, 0], [26, 81000, 0], [35, 50000, 0], [22, 81000, 0], [30, 116000, 0], [26, 15000, 0], [29, 28000, 0], [29, 83000, 0], [35, 44000, 0], [35, 25000, 0], [28, 123000, 1], [35, 73000, 0], [28, 37000, 0], [27, 88000, 0], [28, 59000, 0], [32, 86000, 0], [33, 149000, 1], [19, 21000, 0], [21, 72000, 0], [26, 35000, 0], [27, 89000, 0], [26, 86000, 0], [38, 80000, 0], [39, 71000, 0], [37, 71000, 0], [38, 61000, 0], [37, 55000, 0], [42, 80000, 0], [40, 57000, 0], [35, 75000, 0], [36, 52000, 0], [40, 59000, 0], [41, 59000, 0], [36, 75000, 0], [37, 72000, 0], [40, 75000, 0], [35, 53000, 0], [41, 51000, 0], [39, 61000, 0], [42, 65000, 0], [26, 32000, 0], [30, 17000, 0], [26, 84000, 0], [31, 58000, 0], [33, 31000, 0], [30, 87000, 0], [21, 68000, 0], [28, 55000, 0], [23, 63000, 0], [20, 82000, 0], [30, 107000, 1], [28, 59000, 0], [19, 25000, 0], [19, 85000, 0], [18, 68000, 0], [35, 59000, 0], [30, 89000, 0], [34, 25000, 0], [24, 89000, 0], [27, 96000, 1], [41, 30000, 0], [29, 61000, 0], [20, 74000, 0], [26, 15000, 0], [41, 45000, 0], [31, 76000, 0], [36, 50000, 0], [40, 47000, 0], [31, 15000, 0], [29, 75000, 0], [26, 30000, 0], [32, 135000, 1], [32, 100000, 1], [25, 90000, 0], [37, 33000, 0], [35, 38000, 0], [33, 69000, 0], [18, 86000, 0], [22, 55000, 0], [35, 71000, 0], [29, 148000, 1], [29, 47000, 0], [21, 88000, 0], [34, 115000, 0], [26, 118000, 0], [34, 43000, 0], [34, 72000, 0], [23, 28000, 0], [35, 47000, 0], [25, 22000, 0], [24, 23000, 0], [31, 34000, 0], [26, 16000, 0], [31, 71000, 0], [32, 117000, 1], [33, 43000, 0], [33, 60000, 0], [31, 66000, 0], [20, 82000, 0], [33, 41000, 0], [35, 72000, 0], [28, 32000, 0], [24, 84000, 0], [19, 26000, 0], [29, 43000, 0], [19, 70000, 0], [28, 89000, 0], [34, 43000, 0], [30, 79000, 0], [20, 36000, 0], [26, 80000, 0], [35, 22000, 0], [35, 39000, 0], [39, 134000, 1], [41, 71000, 0], [40, 142000, 1], [35, 58000, 0], [40, 78000, 0], [41, 80000, 0], [35, 91000, 1], [37, 144000, 1], [35, 60000, 0], [37, 53000, 0], [36, 126000, 1], [40, 72000, 0], [42, 80000, 1], [35, 147000, 1], [39, 42000, 0], [40, 107000, 1], [38, 112000, 0], [40, 57000, 0], [37, 80000, 0], [42, 149000, 1], [38, 59000, 0], [41, 72000, 0], [35, 50000, 0], [41, 52000, 0], [35, 97000, 1], [37, 52000, 0], [37, 146000, 1], [41, 72000, 0], [40, 57000, 0], [35, 77000, 0], [36, 144000, 1], [35, 72000, 0], [42, 108000, 1], [40, 75000, 0], [37, 74000, 0], [40, 61000, 0], [39, 106000, 1], [38, 71000, 0], [35, 61000, 0], [37, 70000, 1], [37, 93000, 1], [37, 62000, 0], [41, 79000, 0], [37, 78000, 1], [39, 134000, 1], [37, 77000, 0], [35, 57000, 0], [36, 63000, 0], [42, 73000, 1], [37, 137000, 1], [37, 79000, 1], [40, 60000, 0], [42, 54000, 0], [36, 125000, 1], [38, 50000, 0], [42, 70000, 0], [39, 96000, 1], [38, 50000, 0], [39, 79000, 0], [39, 75000, 1], [35, 55000, 0], [36, 60000, 0], [41, 52000, 0], [41, 60000, 0], [41, 72000, 0], [42, 75000, 0], [36, 118000, 1], [38, 51000, 0], [42, 65000, 0], [40, 65000, 0], [36, 54000, 0], [35, 79000, 0], [38, 55000, 0], [39, 122000, 1], [35, 75000, 0], [38, 65000, 0], [41, 63000, 0], [39, 77000, 0], [38, 61000, 0], [38, 113000, 1], [37, 75000, 0], [42, 90000, 1], [37, 57000, 0], [36, 99000, 1], [41, 72000, 0], [40, 71000, 1], [42, 54000, 0], [42, 79000, 0], [42, 104000, 1], [38, 71000, 0], [39, 73000, 0], [37, 80000, 0], [42, 53000, 0], [41, 87000, 1], [42, 64000, 0], [39, 71000, 0], [39, 59000, 0], [36, 33000, 0]], [[47, 25000, 1], [45, 26000, 1], [46, 28000, 1], [48, 29000, 1], [45, 22000, 1], [47, 49000, 1], [48, 41000, 1], [45, 22000, 1], [46, 23000, 1], [47, 20000, 1], [49, 28000, 1], [47, 30000, 1], [59, 83000, 0], [46, 59000, 0], [49, 74000, 0], [58, 101000, 1], [47, 47000, 0], [55, 130000, 1], [52, 114000, 0], [46, 22000, 0], [48, 96000, 1], [52, 150000, 1], [59, 42000, 0], [47, 43000, 0], [60, 108000, 1], [49, 65000, 0], [46, 96000, 0], [59, 143000, 1], [60, 102000, 1], [56, 133000, 1], [49, 86000, 1], [46, 79000, 1], [46, 82000, 0], [53, 143000, 1], [50, 88000, 1], [56, 104000, 1], [51, 146000, 1], [57, 122000, 1], [44, 39000, 0], [48, 134000, 1], [50, 44000, 0], [52, 90000, 1], [58, 95000, 1], [45, 131000, 1], [55, 125000, 1], [48, 90000, 1], [47, 144000, 1], [43, 133000, 0], [59, 76000, 1], [60, 42000, 1], [57, 26000, 1], [57, 74000, 1], [49, 88000, 1], [52, 38000, 1], [50, 36000, 1], [59, 88000, 1], [52, 21000, 1], [48, 141000, 0], [48, 138000, 1], [49, 89000, 1], [55, 39000, 1], [43, 112000, 1], [45, 79000, 0], [46, 117000, 1], [58, 38000, 1], [48, 74000, 1], [51, 134000, 0], [47, 113000, 1], [49, 141000, 1], [54, 104000, 1], [45, 32000, 1], [52, 138000, 1], [53, 82000, 1], [48, 30000, 1], [48, 131000, 1], [47, 107000, 1], [48, 119000, 1], [57, 60000, 1], [58, 144000, 1], [53, 104000, 1], [47, 51000, 1], [47, 105000, 1], [53, 72000, 1], [54, 108000, 1], [60, 34000, 1], [54, 70000, 1], [43, 129000, 1], [53, 34000, 1], [47, 50000, 1], [59, 29000, 1], [58, 47000, 1], [46, 88000, 1], [54, 26000, 1], [60, 46000, 1], [60, 83000, 1], [59, 130000, 1], [46, 32000, 1], [46, 74000, 0], [58, 23000, 1], [48, 33000, 1], [44, 139000, 1], [49, 28000, 1], [57, 33000, 1], [56, 60000, 1], [49, 39000, 1], [47, 34000, 1], [48, 35000, 1], [48, 33000, 1], [47, 23000, 1], [45, 45000, 1], [60, 42000, 1], [46, 41000, 1], [51, 23000, 1], [50, 20000, 1], [49, 36000, 1]])}\n",
      "Best split for EstimatedSalary: {'index': 0, 'value': 43, 'groups': ([[19, 19000, 0], [35, 20000, 0], [26, 43000, 0], [27, 57000, 0], [19, 76000, 0], [27, 58000, 0], [27, 84000, 0], [32, 150000, 1], [25, 33000, 0], [35, 65000, 0], [26, 80000, 0], [26, 52000, 0], [20, 86000, 0], [32, 18000, 0], [18, 82000, 0], [29, 80000, 0], [29, 43000, 0], [31, 18000, 0], [31, 74000, 0], [27, 137000, 1], [21, 16000, 0], [28, 44000, 0], [27, 90000, 0], [35, 27000, 0], [33, 28000, 0], [30, 49000, 0], [26, 72000, 0], [27, 31000, 0], [27, 17000, 0], [33, 51000, 0], [35, 108000, 0], [30, 15000, 0], [28, 84000, 0], [23, 20000, 0], [25, 79000, 0], [27, 54000, 0], [30, 135000, 1], [31, 89000, 0], [24, 32000, 0], [18, 44000, 0], [29, 83000, 0], [35, 23000, 0], [27, 58000, 0], [24, 55000, 0], [23, 48000, 0], [28, 79000, 0], [22, 18000, 0], [32, 117000, 0], [27, 20000, 0], [25, 87000, 0], [23, 66000, 0], [32, 120000, 1], [24, 58000, 0], [24, 19000, 0], [23, 82000, 0], [22, 63000, 0], [31, 68000, 0], [25, 80000, 0], [24, 27000, 0], [20, 23000, 0], [33, 113000, 0], [32, 18000, 0], [34, 112000, 1], [18, 52000, 0], [22, 27000, 0], [28, 87000, 0], [26, 17000, 0], [30, 80000, 0], [39, 42000, 0], [20, 49000, 0], [35, 88000, 0], [30, 62000, 0], [31, 118000, 1], [24, 55000, 0], [28, 85000, 0], [26, 81000, 0], [35, 50000, 0], [22, 81000, 0], [30, 116000, 0], [26, 15000, 0], [29, 28000, 0], [29, 83000, 0], [35, 44000, 0], [35, 25000, 0], [28, 123000, 1], [35, 73000, 0], [28, 37000, 0], [27, 88000, 0], [28, 59000, 0], [32, 86000, 0], [33, 149000, 1], [19, 21000, 0], [21, 72000, 0], [26, 35000, 0], [27, 89000, 0], [26, 86000, 0], [38, 80000, 0], [39, 71000, 0], [37, 71000, 0], [38, 61000, 0], [37, 55000, 0], [42, 80000, 0], [40, 57000, 0], [35, 75000, 0], [36, 52000, 0], [40, 59000, 0], [41, 59000, 0], [36, 75000, 0], [37, 72000, 0], [40, 75000, 0], [35, 53000, 0], [41, 51000, 0], [39, 61000, 0], [42, 65000, 0], [26, 32000, 0], [30, 17000, 0], [26, 84000, 0], [31, 58000, 0], [33, 31000, 0], [30, 87000, 0], [21, 68000, 0], [28, 55000, 0], [23, 63000, 0], [20, 82000, 0], [30, 107000, 1], [28, 59000, 0], [19, 25000, 0], [19, 85000, 0], [18, 68000, 0], [35, 59000, 0], [30, 89000, 0], [34, 25000, 0], [24, 89000, 0], [27, 96000, 1], [41, 30000, 0], [29, 61000, 0], [20, 74000, 0], [26, 15000, 0], [41, 45000, 0], [31, 76000, 0], [36, 50000, 0], [40, 47000, 0], [31, 15000, 0], [29, 75000, 0], [26, 30000, 0], [32, 135000, 1], [32, 100000, 1], [25, 90000, 0], [37, 33000, 0], [35, 38000, 0], [33, 69000, 0], [18, 86000, 0], [22, 55000, 0], [35, 71000, 0], [29, 148000, 1], [29, 47000, 0], [21, 88000, 0], [34, 115000, 0], [26, 118000, 0], [34, 43000, 0], [34, 72000, 0], [23, 28000, 0], [35, 47000, 0], [25, 22000, 0], [24, 23000, 0], [31, 34000, 0], [26, 16000, 0], [31, 71000, 0], [32, 117000, 1], [33, 43000, 0], [33, 60000, 0], [31, 66000, 0], [20, 82000, 0], [33, 41000, 0], [35, 72000, 0], [28, 32000, 0], [24, 84000, 0], [19, 26000, 0], [29, 43000, 0], [19, 70000, 0], [28, 89000, 0], [34, 43000, 0], [30, 79000, 0], [20, 36000, 0], [26, 80000, 0], [35, 22000, 0], [35, 39000, 0], [39, 134000, 1], [41, 71000, 0], [40, 142000, 1], [35, 58000, 0], [40, 78000, 0], [41, 80000, 0], [35, 91000, 1], [37, 144000, 1], [35, 60000, 0], [37, 53000, 0], [36, 126000, 1], [40, 72000, 0], [42, 80000, 1], [35, 147000, 1], [39, 42000, 0], [40, 107000, 1], [38, 112000, 0], [40, 57000, 0], [37, 80000, 0], [42, 149000, 1], [38, 59000, 0], [41, 72000, 0], [35, 50000, 0], [41, 52000, 0], [35, 97000, 1], [37, 52000, 0], [37, 146000, 1], [41, 72000, 0], [40, 57000, 0], [35, 77000, 0], [36, 144000, 1], [35, 72000, 0], [42, 108000, 1], [40, 75000, 0], [37, 74000, 0], [40, 61000, 0], [39, 106000, 1], [38, 71000, 0], [35, 61000, 0], [37, 70000, 1], [37, 93000, 1], [37, 62000, 0], [41, 79000, 0], [37, 78000, 1], [39, 134000, 1], [37, 77000, 0], [35, 57000, 0], [36, 63000, 0], [42, 73000, 1], [37, 137000, 1], [37, 79000, 1], [40, 60000, 0], [42, 54000, 0], [36, 125000, 1], [38, 50000, 0], [42, 70000, 0], [39, 96000, 1], [38, 50000, 0], [39, 79000, 0], [39, 75000, 1], [35, 55000, 0], [36, 60000, 0], [41, 52000, 0], [41, 60000, 0], [41, 72000, 0], [42, 75000, 0], [36, 118000, 1], [38, 51000, 0], [42, 65000, 0], [40, 65000, 0], [36, 54000, 0], [35, 79000, 0], [38, 55000, 0], [39, 122000, 1], [35, 75000, 0], [38, 65000, 0], [41, 63000, 0], [39, 77000, 0], [38, 61000, 0], [38, 113000, 1], [37, 75000, 0], [42, 90000, 1], [37, 57000, 0], [36, 99000, 1], [41, 72000, 0], [40, 71000, 1], [42, 54000, 0], [42, 79000, 0], [42, 104000, 1], [38, 71000, 0], [39, 73000, 0], [37, 80000, 0], [42, 53000, 0], [41, 87000, 1], [42, 64000, 0], [39, 71000, 0], [39, 59000, 0], [36, 33000, 0]], [[47, 25000, 1], [45, 26000, 1], [46, 28000, 1], [48, 29000, 1], [45, 22000, 1], [47, 49000, 1], [48, 41000, 1], [45, 22000, 1], [46, 23000, 1], [47, 20000, 1], [49, 28000, 1], [47, 30000, 1], [59, 83000, 0], [46, 59000, 0], [49, 74000, 0], [58, 101000, 1], [47, 47000, 0], [55, 130000, 1], [52, 114000, 0], [46, 22000, 0], [48, 96000, 1], [52, 150000, 1], [59, 42000, 0], [47, 43000, 0], [60, 108000, 1], [49, 65000, 0], [46, 96000, 0], [59, 143000, 1], [60, 102000, 1], [56, 133000, 1], [49, 86000, 1], [46, 79000, 1], [46, 82000, 0], [53, 143000, 1], [50, 88000, 1], [56, 104000, 1], [51, 146000, 1], [57, 122000, 1], [44, 39000, 0], [48, 134000, 1], [50, 44000, 0], [52, 90000, 1], [58, 95000, 1], [45, 131000, 1], [55, 125000, 1], [48, 90000, 1], [47, 144000, 1], [43, 133000, 0], [59, 76000, 1], [60, 42000, 1], [57, 26000, 1], [57, 74000, 1], [49, 88000, 1], [52, 38000, 1], [50, 36000, 1], [59, 88000, 1], [52, 21000, 1], [48, 141000, 0], [48, 138000, 1], [49, 89000, 1], [55, 39000, 1], [43, 112000, 1], [45, 79000, 0], [46, 117000, 1], [58, 38000, 1], [48, 74000, 1], [51, 134000, 0], [47, 113000, 1], [49, 141000, 1], [54, 104000, 1], [45, 32000, 1], [52, 138000, 1], [53, 82000, 1], [48, 30000, 1], [48, 131000, 1], [47, 107000, 1], [48, 119000, 1], [57, 60000, 1], [58, 144000, 1], [53, 104000, 1], [47, 51000, 1], [47, 105000, 1], [53, 72000, 1], [54, 108000, 1], [60, 34000, 1], [54, 70000, 1], [43, 129000, 1], [53, 34000, 1], [47, 50000, 1], [59, 29000, 1], [58, 47000, 1], [46, 88000, 1], [54, 26000, 1], [60, 46000, 1], [60, 83000, 1], [59, 130000, 1], [46, 32000, 1], [46, 74000, 0], [58, 23000, 1], [48, 33000, 1], [44, 139000, 1], [49, 28000, 1], [57, 33000, 1], [56, 60000, 1], [49, 39000, 1], [47, 34000, 1], [48, 35000, 1], [48, 33000, 1], [47, 23000, 1], [45, 45000, 1], [60, 42000, 1], [46, 41000, 1], [51, 23000, 1], [50, 20000, 1], [49, 36000, 1]])}\n"
     ]
    }
   ],
   "source": [
    "\n",
    "# Function to calculate Gini index\n",
    "def gini_index(groups, classes):\n",
    "    # Count all samples at split point\n",
    "    total_samples = float(sum(len(group) for group in groups))\n",
    "    # Sum weighted Gini index for each group\n",
    "    gini = 0.0\n",
    "    for group in groups:\n",
    "        size = float(len(group))\n",
    "        # Avoid division by zero\n",
    "        if size == 0:\n",
    "            continue\n",
    "        score = 0.0\n",
    "        # Score the group based on the score for each class\n",
    "        for class_val in classes:\n",
    "            p = [row[-1] for row in group].count(class_val) / size\n",
    "            score += p * p\n",
    "        # Weight the group score by its relative size\n",
    "        gini += (1.0 - score) * (size / total_samples)\n",
    "    return gini\n",
    "\n",
    "# Function to split a dataset based on an attribute and a split value\n",
    "def test_split(index, value, dataset):\n",
    "    left, right = list(), list()\n",
    "    for row in dataset:\n",
    "        if row[index] < value:\n",
    "            left.append(row)\n",
    "        else:\n",
    "            right.append(row)\n",
    "    return left, right\n",
    "\n",
    "# Function to find the best split point\n",
    "def get_split(dataset):\n",
    "    class_values = list(set(row[-1] for row in dataset))\n",
    "    b_index, b_value, b_score, b_groups = 999, 999, 999, None\n",
    "    for index in range(len(dataset[0]) - 1):\n",
    "        for row in dataset:\n",
    "            groups = test_split(index, row[index], dataset)\n",
    "            gini = gini_index(groups, class_values)\n",
    "            if gini < b_score:\n",
    "                b_index, b_value, b_score, b_groups = index, row[index], gini, groups\n",
    "    return {'index': b_index, 'value': b_value, 'groups': b_groups}\n",
    "\n",
    "# Convert DataFrame to a list of lists\n",
    "dataset = df.values.tolist()\n",
    "\n",
    "# Find the best split for Age\n",
    "split_age = get_split(dataset)\n",
    "print(\"Best split for Age:\", split_age)\n",
    "\n",
    "# Find the best split for EstimatedSalary\n",
    "split_salary = get_split(dataset)\n",
    "print(\"Best split for EstimatedSalary:\", split_salary)\n"
   ]
  },
  {
   "cell_type": "markdown",
   "metadata": {},
   "source": [
    "### 4) 2. Create decision tree algorithm from scratch without using sklearn library. you may assume that all the columns in the data will be categorical in nature. Give a new data for prediction and print the predicted output along with the probabilities.\n",
    "\n"
   ]
  },
  {
   "cell_type": "markdown",
   "metadata": {},
   "source": [
    "### Importing the libraries and reading the dataset"
   ]
  },
  {
   "cell_type": "code",
   "execution_count": 28,
   "metadata": {},
   "outputs": [],
   "source": [
    "import numpy as np\n",
    "import pandas as pd"
   ]
  },
  {
   "cell_type": "code",
   "execution_count": 29,
   "metadata": {},
   "outputs": [
    {
     "data": {
      "text/html": [
       "<div>\n",
       "<style scoped>\n",
       "    .dataframe tbody tr th:only-of-type {\n",
       "        vertical-align: middle;\n",
       "    }\n",
       "\n",
       "    .dataframe tbody tr th {\n",
       "        vertical-align: top;\n",
       "    }\n",
       "\n",
       "    .dataframe thead th {\n",
       "        text-align: right;\n",
       "    }\n",
       "</style>\n",
       "<table border=\"1\" class=\"dataframe\">\n",
       "  <thead>\n",
       "    <tr style=\"text-align: right;\">\n",
       "      <th></th>\n",
       "      <th>sepal_length</th>\n",
       "      <th>sepal_width</th>\n",
       "      <th>petal_length</th>\n",
       "      <th>petal_width</th>\n",
       "      <th>type</th>\n",
       "    </tr>\n",
       "  </thead>\n",
       "  <tbody>\n",
       "    <tr>\n",
       "      <th>0</th>\n",
       "      <td>5.1</td>\n",
       "      <td>3.5</td>\n",
       "      <td>1.4</td>\n",
       "      <td>0.2</td>\n",
       "      <td>Iris-setosa</td>\n",
       "    </tr>\n",
       "    <tr>\n",
       "      <th>1</th>\n",
       "      <td>4.9</td>\n",
       "      <td>3.0</td>\n",
       "      <td>1.4</td>\n",
       "      <td>0.2</td>\n",
       "      <td>Iris-setosa</td>\n",
       "    </tr>\n",
       "    <tr>\n",
       "      <th>2</th>\n",
       "      <td>4.7</td>\n",
       "      <td>3.2</td>\n",
       "      <td>1.3</td>\n",
       "      <td>0.2</td>\n",
       "      <td>Iris-setosa</td>\n",
       "    </tr>\n",
       "    <tr>\n",
       "      <th>3</th>\n",
       "      <td>4.6</td>\n",
       "      <td>3.1</td>\n",
       "      <td>1.5</td>\n",
       "      <td>0.2</td>\n",
       "      <td>Iris-setosa</td>\n",
       "    </tr>\n",
       "    <tr>\n",
       "      <th>4</th>\n",
       "      <td>5.0</td>\n",
       "      <td>3.6</td>\n",
       "      <td>1.4</td>\n",
       "      <td>0.2</td>\n",
       "      <td>Iris-setosa</td>\n",
       "    </tr>\n",
       "    <tr>\n",
       "      <th>5</th>\n",
       "      <td>5.4</td>\n",
       "      <td>3.9</td>\n",
       "      <td>1.7</td>\n",
       "      <td>0.4</td>\n",
       "      <td>Iris-setosa</td>\n",
       "    </tr>\n",
       "    <tr>\n",
       "      <th>6</th>\n",
       "      <td>4.6</td>\n",
       "      <td>3.4</td>\n",
       "      <td>1.4</td>\n",
       "      <td>0.3</td>\n",
       "      <td>Iris-setosa</td>\n",
       "    </tr>\n",
       "    <tr>\n",
       "      <th>7</th>\n",
       "      <td>5.0</td>\n",
       "      <td>3.4</td>\n",
       "      <td>1.5</td>\n",
       "      <td>0.2</td>\n",
       "      <td>Iris-setosa</td>\n",
       "    </tr>\n",
       "    <tr>\n",
       "      <th>8</th>\n",
       "      <td>4.4</td>\n",
       "      <td>2.9</td>\n",
       "      <td>1.4</td>\n",
       "      <td>0.2</td>\n",
       "      <td>Iris-setosa</td>\n",
       "    </tr>\n",
       "    <tr>\n",
       "      <th>9</th>\n",
       "      <td>4.9</td>\n",
       "      <td>3.1</td>\n",
       "      <td>1.5</td>\n",
       "      <td>0.1</td>\n",
       "      <td>Iris-setosa</td>\n",
       "    </tr>\n",
       "  </tbody>\n",
       "</table>\n",
       "</div>"
      ],
      "text/plain": [
       "   sepal_length  sepal_width  petal_length  petal_width         type\n",
       "0           5.1          3.5           1.4          0.2  Iris-setosa\n",
       "1           4.9          3.0           1.4          0.2  Iris-setosa\n",
       "2           4.7          3.2           1.3          0.2  Iris-setosa\n",
       "3           4.6          3.1           1.5          0.2  Iris-setosa\n",
       "4           5.0          3.6           1.4          0.2  Iris-setosa\n",
       "5           5.4          3.9           1.7          0.4  Iris-setosa\n",
       "6           4.6          3.4           1.4          0.3  Iris-setosa\n",
       "7           5.0          3.4           1.5          0.2  Iris-setosa\n",
       "8           4.4          2.9           1.4          0.2  Iris-setosa\n",
       "9           4.9          3.1           1.5          0.1  Iris-setosa"
      ]
     },
     "execution_count": 29,
     "metadata": {},
     "output_type": "execute_result"
    }
   ],
   "source": [
    "col_names = ['sepal_length', 'sepal_width', 'petal_length', 'petal_width', 'type']\n",
    "data = pd.read_csv(\"IRIS.csv\", skiprows=1, header=None, names=col_names)\n",
    "data.head(10)"
   ]
  },
  {
   "cell_type": "markdown",
   "metadata": {},
   "source": [
    "### Node Class"
   ]
  },
  {
   "cell_type": "code",
   "execution_count": 30,
   "metadata": {},
   "outputs": [],
   "source": [
    "class Node():\n",
    "    def __init__(self, feature_index=None, threshold=None, left=None, right=None, info_gain=None, value=None):\n",
    "        ''' constructor ''' \n",
    "        \n",
    "        # for decision node\n",
    "        self.feature_index = feature_index\n",
    "        self.threshold = threshold\n",
    "        self.left = left\n",
    "        self.right = right\n",
    "        self.info_gain = info_gain\n",
    "        \n",
    "        # for leaf node\n",
    "        self.value = value"
   ]
  },
  {
   "cell_type": "markdown",
   "metadata": {},
   "source": [
    "### Tree Class"
   ]
  },
  {
   "cell_type": "code",
   "execution_count": 31,
   "metadata": {},
   "outputs": [],
   "source": [
    "class DecisionTreeClassifier():\n",
    "    def __init__(self, min_samples_split=2, max_depth=2):\n",
    "        ''' constructor '''\n",
    "        \n",
    "        # initialize the root of the tree \n",
    "        self.root = None\n",
    "        \n",
    "        # stopping conditions\n",
    "        self.min_samples_split = min_samples_split\n",
    "        self.max_depth = max_depth\n",
    "        \n",
    "    def build_tree(self, dataset, curr_depth=0):\n",
    "        ''' recursive function to build the tree ''' \n",
    "        \n",
    "        X, Y = dataset[:,:-1], dataset[:,-1]\n",
    "        num_samples, num_features = np.shape(X)\n",
    "        \n",
    "        # split until stopping conditions are met\n",
    "        if num_samples>=self.min_samples_split and curr_depth<=self.max_depth:\n",
    "            # find the best split\n",
    "            best_split = self.get_best_split(dataset, num_samples, num_features)\n",
    "            # check if information gain is positive\n",
    "            if best_split[\"info_gain\"]>0:\n",
    "                # recur left\n",
    "                left_subtree = self.build_tree(best_split[\"dataset_left\"], curr_depth+1)\n",
    "                # recur right\n",
    "                right_subtree = self.build_tree(best_split[\"dataset_right\"], curr_depth+1)\n",
    "                # return decision node\n",
    "                return Node(best_split[\"feature_index\"], best_split[\"threshold\"], \n",
    "                            left_subtree, right_subtree, best_split[\"info_gain\"])\n",
    "        \n",
    "        # compute leaf node\n",
    "        leaf_value = self.calculate_leaf_value(Y)\n",
    "        # return leaf node\n",
    "        return Node(value=leaf_value)\n",
    "    \n",
    "    def get_best_split(self, dataset, num_samples, num_features):\n",
    "        ''' function to find the best split '''\n",
    "        \n",
    "        # dictionary to store the best split\n",
    "        best_split = {}\n",
    "        max_info_gain = -float(\"inf\")\n",
    "        \n",
    "        # loop over all the features\n",
    "        for feature_index in range(num_features):\n",
    "            feature_values = dataset[:, feature_index]\n",
    "            possible_thresholds = np.unique(feature_values)\n",
    "            # loop over all the feature values present in the data\n",
    "            for threshold in possible_thresholds:\n",
    "                # get current split\n",
    "                dataset_left, dataset_right = self.split(dataset, feature_index, threshold)\n",
    "                # check if childs are not null\n",
    "                if len(dataset_left)>0 and len(dataset_right)>0:\n",
    "                    y, left_y, right_y = dataset[:, -1], dataset_left[:, -1], dataset_right[:, -1]\n",
    "                    # compute information gain\n",
    "                    curr_info_gain = self.information_gain(y, left_y, right_y, \"gini\")\n",
    "                    # update the best split if needed\n",
    "                    if curr_info_gain>max_info_gain:\n",
    "                        best_split[\"feature_index\"] = feature_index\n",
    "                        best_split[\"threshold\"] = threshold\n",
    "                        best_split[\"dataset_left\"] = dataset_left\n",
    "                        best_split[\"dataset_right\"] = dataset_right\n",
    "                        best_split[\"info_gain\"] = curr_info_gain\n",
    "                        max_info_gain = curr_info_gain\n",
    "                        \n",
    "        # return best split\n",
    "        return best_split\n",
    "    \n",
    "    def split(self, dataset, feature_index, threshold):\n",
    "        ''' function to split the data '''\n",
    "        \n",
    "        dataset_left = np.array([row for row in dataset if row[feature_index]<=threshold])\n",
    "        dataset_right = np.array([row for row in dataset if row[feature_index]>threshold])\n",
    "        return dataset_left, dataset_right\n",
    "    \n",
    "    def information_gain(self, parent, l_child, r_child, mode=\"entropy\"):\n",
    "        ''' function to compute information gain '''\n",
    "        \n",
    "        weight_l = len(l_child) / len(parent)\n",
    "        weight_r = len(r_child) / len(parent)\n",
    "        if mode==\"gini\":\n",
    "            gain = self.gini_index(parent) - (weight_l*self.gini_index(l_child) + weight_r*self.gini_index(r_child))\n",
    "        else:\n",
    "            gain = self.entropy(parent) - (weight_l*self.entropy(l_child) + weight_r*self.entropy(r_child))\n",
    "        return gain\n",
    "    \n",
    "    def entropy(self, y):\n",
    "        ''' function to compute entropy '''\n",
    "        \n",
    "        class_labels = np.unique(y)\n",
    "        entropy = 0\n",
    "        for cls in class_labels:\n",
    "            p_cls = len(y[y == cls]) / len(y)\n",
    "            entropy += -p_cls * np.log2(p_cls)\n",
    "        return entropy\n",
    "    \n",
    "    def gini_index(self, y):\n",
    "        ''' function to compute gini index '''\n",
    "        \n",
    "        class_labels = np.unique(y)\n",
    "        gini = 0\n",
    "        for cls in class_labels:\n",
    "            p_cls = len(y[y == cls]) / len(y)\n",
    "            gini += p_cls**2\n",
    "        return 1 - gini\n",
    "        \n",
    "    def calculate_leaf_value(self, Y):\n",
    "        ''' function to compute leaf node '''\n",
    "        \n",
    "        Y = list(Y)\n",
    "        return max(Y, key=Y.count)\n",
    "    \n",
    "    def print_tree(self, tree=None, indent=\" \"):\n",
    "        ''' function to print the tree '''\n",
    "        \n",
    "        if not tree:\n",
    "            tree = self.root\n",
    "\n",
    "        if tree.value is not None:\n",
    "            print(tree.value)\n",
    "\n",
    "        else:\n",
    "            print(\"X_\"+str(tree.feature_index), \"<=\", tree.threshold, \"?\", tree.info_gain)\n",
    "            print(\"%sleft:\" % (indent), end=\"\")\n",
    "            self.print_tree(tree.left, indent + indent)\n",
    "            print(\"%sright:\" % (indent), end=\"\")\n",
    "            self.print_tree(tree.right, indent + indent)\n",
    "    \n",
    "    def fit(self, X, Y):\n",
    "        ''' function to train the tree '''\n",
    "        \n",
    "        dataset = np.concatenate((X, Y), axis=1)\n",
    "        self.root = self.build_tree(dataset)\n",
    "    \n",
    "    def predict(self, X):\n",
    "        ''' function to predict new dataset '''\n",
    "        \n",
    "        preditions = [self.make_prediction(x, self.root) for x in X]\n",
    "        return preditions\n",
    "    \n",
    "    def make_prediction(self, x, tree):\n",
    "        ''' function to predict a single data point '''\n",
    "        \n",
    "        if tree.value!=None: return tree.value\n",
    "        feature_val = x[tree.feature_index]\n",
    "        if feature_val<=tree.threshold:\n",
    "            return self.make_prediction(x, tree.left)\n",
    "        else:\n",
    "            return self.make_prediction(x, tree.right)"
   ]
  },
  {
   "cell_type": "markdown",
   "metadata": {},
   "source": [
    "### Train-Test Split"
   ]
  },
  {
   "cell_type": "code",
   "execution_count": 32,
   "metadata": {},
   "outputs": [],
   "source": [
    "X = data.iloc[:, :-1].values\n",
    "Y = data.iloc[:, -1].values.reshape(-1,1)\n",
    "from sklearn.model_selection import train_test_split\n",
    "X_train, X_test, Y_train, Y_test = train_test_split(X, Y, test_size=.2, random_state=41)"
   ]
  },
  {
   "cell_type": "markdown",
   "metadata": {},
   "source": [
    "### Fit the model\n"
   ]
  },
  {
   "cell_type": "code",
   "execution_count": 33,
   "metadata": {},
   "outputs": [
    {
     "name": "stdout",
     "output_type": "stream",
     "text": [
      "X_2 <= 1.9 ? 0.33741385372714494\n",
      " left:Iris-setosa\n",
      " right:X_3 <= 1.5 ? 0.427106638180289\n",
      "  left:X_2 <= 4.9 ? 0.05124653739612173\n",
      "    left:Iris-versicolor\n",
      "    right:Iris-virginica\n",
      "  right:X_2 <= 5.0 ? 0.019631171921475288\n",
      "    left:X_1 <= 2.8 ? 0.20833333333333334\n",
      "        left:Iris-virginica\n",
      "        right:Iris-versicolor\n",
      "    right:Iris-virginica\n"
     ]
    }
   ],
   "source": [
    "classifier = DecisionTreeClassifier(min_samples_split=3, max_depth=3)\n",
    "classifier.fit(X_train,Y_train)\n",
    "classifier.print_tree()"
   ]
  },
  {
   "cell_type": "markdown",
   "metadata": {},
   "source": [
    "### Test the model"
   ]
  },
  {
   "cell_type": "code",
   "execution_count": 34,
   "metadata": {},
   "outputs": [
    {
     "data": {
      "text/plain": [
       "0.9333333333333333"
      ]
     },
     "execution_count": 34,
     "metadata": {},
     "output_type": "execute_result"
    }
   ],
   "source": [
    "Y_pred = classifier.predict(X_test) \n",
    "from sklearn.metrics import accuracy_score\n",
    "accuracy_score(Y_test, Y_pred)"
   ]
  }
 ],
 "metadata": {
  "kernelspec": {
   "display_name": "Python 3",
   "language": "python",
   "name": "python3"
  },
  "language_info": {
   "codemirror_mode": {
    "name": "ipython",
    "version": 3
   },
   "file_extension": ".py",
   "mimetype": "text/x-python",
   "name": "python",
   "nbconvert_exporter": "python",
   "pygments_lexer": "ipython3",
   "version": "3.11.0"
  }
 },
 "nbformat": 4,
 "nbformat_minor": 2
}
